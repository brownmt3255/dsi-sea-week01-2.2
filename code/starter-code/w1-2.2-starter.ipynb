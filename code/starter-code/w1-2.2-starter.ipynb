# write a function with one argument. Find the area of a square.
def areaSquare(side):
    return side ** 2
# write a function with two arguments. Find the area of a rectangle.
def areaRect(length,breadth):
    return length * breadth
# write a function with three arguments. Find the surface area of cuboid.
def surfaceAreaCuboid(length,breadth,height):
    area = 2 * ((length*breadth) + (breadth*height) + (length*height))
    return area
#Write a function to find the Max of three numbers.
def maximus(num1,num2,num3):
    return max(num1,num2,num3)
#Write a function to sum all the numbers in a list. Sample List : (8, 2, 3, 0, 7) Expected Output : 20
def list_sum(list):
    return sum(list)
#Write a function to multiply all the numbers in a list. Sample List : (8, 2, 3, -1, 7) Expected Output : -336
def multiplier(list):
    product = 1
    for l in list:
        product = l * product
    return product
#Write a function to reverse a string. Sample String : "1234abcd" Expected Output : "dcba4321"
def string_reversal(sample_string):
    return sample_string[::-1]
#Write a function to calculate the factorial of a number (non-negative integer).
#The function accept the number as a argument.
def factorial_finder(integer):
    return math.factorial(integer)
#Write a function to check whether a number is in a given range.
def range_finder(integer,range):
    if integer in range:
        return "Yes"
    else:
        return "No"
#Write an function that accepts a string and calculate the number of upper case letters and lower case letters.
#Sample String : 'The quick Brow Fox'
#Expected Output : No. of Upper case characters : 3 No. of Lower case Characters :
def upper_lower(string_sample):
    upper_cases = 0
    lower_cases = 0
    for letter in string_sample:
        if letter.isupper() == True:
            upper_cases += 1
        elif letter.islower() == True:
            lower_cases += 1
    print "No. of Upper case characters: {} No. of Lower case Characters: {}".format(upper_cases,lower_cases)
#Write a function that takes a list and returns a new list with unique elements of the first list.
#Sample List : [1,2,3,3,3,3,4,5] Unique List : [1, 2, 3, 4, 5]
def unique_lister(duplicate_list):
    unique_list = []
    for i in duplicate_list:
        if i not in unique_list:
            unique_list.append(i)

    return unique_list
#Write a function that takes a number as a parameter and check the number is prime or not.
#Note : A prime number (or a prime) is a natural number greater than 1 and that has no positive divisors other than 1 and itself.
def is_prime(n):
    for i in range(3, n):
        if n % i == 0:
            return "Not Prime"
        else:
            return "Prime"
#Write a function to print the even numbers from a given list.
#Sample List : [1, 2, 3, 4, 5, 6, 7, 8, 9] Expected Result : [2, 4, 6, 8]
def even_numbers(lister):
    even_list = []
    for l in lister:
        if l % 2 == 0:
            even_list.append(l)

    return even_list
